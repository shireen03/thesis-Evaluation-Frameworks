{
  "nbformat": 4,
  "nbformat_minor": 0,
  "metadata": {
    "colab": {
      "provenance": []
    },
    "kernelspec": {
      "name": "python3",
      "display_name": "Python 3"
    },
    "language_info": {
      "name": "python"
    }
  },
  "cells": [
    {
      "cell_type": "code",
      "execution_count": null,
      "metadata": {
        "colab": {
          "base_uri": "https://localhost:8080/"
        },
        "id": "1PJo0QGew7OS",
        "outputId": "d66c392b-1f0a-4de8-c2e4-0b949f1226b5"
      },
      "outputs": [
        {
          "output_type": "stream",
          "name": "stdout",
          "text": [
            "3p_gold_gemma_EN.csv\n",
            "[]\n",
            "3p_llm_gemma_EN.csv\n",
            "[]\n",
            "3p_gold_llama_EN.csv\n",
            "[]\n",
            "3p_llm_llama_EN.csv\n",
            "[]\n",
            "3p_gold_gemma_FR.csv\n",
            "[]\n",
            "3p_llm_gemma_FR.csv\n",
            "[]\n",
            "3p_gold_llama_FR.csv\n",
            "[]\n",
            "3p_llm_llama_FR.csv\n",
            "[]\n"
          ]
        }
      ],
      "source": [
        "import pandas as pd\n",
        "\n",
        "\n",
        "def get_error(filename):\n",
        "  print(filename)\n",
        "  df=pd.read_csv(filename)\n",
        "  indexes = df[df > 3].stack().index.tolist()\n",
        "\n",
        "  print(indexes)\n",
        "filenames=['3p_gold_gemma_EN.csv','3p_llm_gemma_EN.csv','3p_gold_llama_EN.csv','3p_llm_llama_EN.csv',\n",
        "           '3p_gold_gemma_FR.csv','3p_llm_gemma_FR.csv','3p_gold_llama_FR.csv','3p_llm_llama_FR.csv']\n",
        "for file in filenames:\n",
        "  get_error(file)\n"
      ]
    },
    {
      "cell_type": "markdown",
      "source": [],
      "metadata": {
        "id": "z2cB39QhTrGQ"
      }
    },
    {
      "cell_type": "code",
      "source": [
        "df2=pd.read_csv('3p_llm_llama_FR.csv', index_col=[0])\n",
        "print(df2.columns)\n",
        "df2.drop(df2.columns[df2.columns.str.contains(\n",
        "    'Unnamed', case=False)], axis=1, inplace=True)\n",
        "df2.to_csv('3p_llm_llama_FR.csv', index=False)"
      ],
      "metadata": {
        "colab": {
          "base_uri": "https://localhost:8080/"
        },
        "id": "s4pIvTXVTbOW",
        "outputId": "e330dd81-b41f-4c62-f4f6-3dad79156acf"
      },
      "execution_count": null,
      "outputs": [
        {
          "output_type": "stream",
          "name": "stdout",
          "text": [
            "Index(['factuality', 'clarity', 'answer relevance', 'precision',\n",
            "       'context relevance', 'completeness', 'references', 'Average'],\n",
            "      dtype='object')\n"
          ]
        }
      ]
    },
    {
      "cell_type": "code",
      "source": [
        "import pandas as pd\n",
        "\n",
        "filenames = [\n",
        "    '3p_gold_gemma_EN.csv', '3p_llm_gemma_EN.csv', '3p_gold_llama_EN.csv', '3p_llm_llama_EN.csv',\n",
        "    '3p_gold_gemma_FR.csv', '3p_llm_gemma_FR.csv', '3p_gold_llama_FR.csv', '3p_llm_llama_FR.csv'\n",
        "]\n",
        "\n",
        "def recompute_average(filename):\n",
        "    df = pd.read_csv(filename)\n",
        "\n",
        "    df = df.loc[:, ~df.columns.str.contains('^Unnamed')]\n",
        "\n",
        "    cols_to_average = df.columns[df.columns != 'Average']\n",
        "\n",
        "    df['Average'] = df[cols_to_average].mean(axis=1)\n",
        "\n",
        "    df.to_csv(filename, index=False)\n",
        "\n",
        "for filename in filenames:\n",
        "    recompute_average(filename)\n",
        "\n",
        "print(\"Average columns recomputed for all files.\")\n"
      ],
      "metadata": {
        "colab": {
          "base_uri": "https://localhost:8080/"
        },
        "id": "1beMGZ2fT4OM",
        "outputId": "9e18b7c0-4bcf-4446-9a8f-940a058c6cab"
      },
      "execution_count": null,
      "outputs": [
        {
          "output_type": "stream",
          "name": "stdout",
          "text": [
            "Average columns recomputed for all files.\n"
          ]
        }
      ]
    },
    {
      "cell_type": "markdown",
      "source": [
        "FOR ENGLISH GEMMA"
      ],
      "metadata": {
        "id": "9_6wvQKdRLSw"
      }
    },
    {
      "cell_type": "code",
      "source": [
        "import pandas as pd\n",
        "\n",
        "gemmaG = pd.read_csv('3p_gold_gemma_EN.csv')\n",
        "gemmaL = pd.read_csv('3p_llm_gemma_EN.csv')\n",
        "\n",
        "\n",
        "gold_higher = (gemmaG['Average'] > gemmaL['Average']).sum()\n",
        "llm_higher = (gemmaG['Average'] < gemmaL['Average']).sum()\n",
        "ties = (gemmaG['Average'] == gemmaL['Average']).sum()\n",
        "\n",
        "\n",
        "goldRate = (gold_higher / len(gemmaG)) * 100\n",
        "llmRate = (llm_higher / len(gemmaG)) * 100\n",
        "tiesRate = (ties / len(gemmaG)) * 100\n",
        "\n",
        "print(f\"Gold higher count: {gold_higher} ({goldRate:.2f}%)\")\n",
        "print(f\"LLM higher count: {llm_higher} ({llmRate:.2f}%)\")\n",
        "print(f\"Ties count: {ties} ({tiesRate:.2f}%)\")\n"
      ],
      "metadata": {
        "colab": {
          "base_uri": "https://localhost:8080/"
        },
        "id": "67Orx-FGRKLP",
        "outputId": "eacafb01-301d-4b7e-ae1d-190f9d1bb31d"
      },
      "execution_count": null,
      "outputs": [
        {
          "output_type": "stream",
          "name": "stdout",
          "text": [
            "Gold higher count: 148 (29.90%)\n",
            "LLM higher count: 68 (13.74%)\n",
            "Ties count: 279 (56.36%)\n"
          ]
        }
      ]
    },
    {
      "cell_type": "markdown",
      "source": [
        "FOR LLAMA"
      ],
      "metadata": {
        "id": "oQVm7L91XxDz"
      }
    },
    {
      "cell_type": "code",
      "source": [
        "import pandas as pd\n",
        "\n",
        "llamaG = pd.read_csv('3p_gold_llama_EN.csv')\n",
        "llamaL = pd.read_csv('3p_llm_llama_EN.csv')\n",
        "\n",
        "gold_higher = (llamaG['Average'] > llamaL['Average']).sum()\n",
        "llm_higher = (llamaG['Average'] < llamaL['Average']).sum()\n",
        "ties = (llamaG['Average'] == llamaL['Average']).sum()\n",
        "\n",
        "gold_higher_pct = (gold_higher / len(llamaG)) * 100\n",
        "llm_higher_pct = (llm_higher / len(llamaG)) * 100\n",
        "ties_pct = (ties / len(llamaG)) * 100\n",
        "\n",
        "print(f\"Gold higher count: {gold_higher} ({gold_higher_pct:.2f}%)\")\n",
        "print(f\"LLM higher count: {llm_higher} ({llm_higher_pct:.2f}%)\")\n",
        "print(f\"Ties count: {ties} ({ties_pct:.2f}%)\")\n"
      ],
      "metadata": {
        "colab": {
          "base_uri": "https://localhost:8080/"
        },
        "id": "X7us8ocfRKZy",
        "outputId": "59e45b14-ec5b-4b26-ad9c-bd9b8a6a303e"
      },
      "execution_count": null,
      "outputs": [
        {
          "output_type": "stream",
          "name": "stdout",
          "text": [
            "Gold higher count: 0 (0.00%)\n",
            "LLM higher count: 483 (97.58%)\n",
            "Ties count: 12 (2.42%)\n"
          ]
        }
      ]
    },
    {
      "cell_type": "markdown",
      "source": [],
      "metadata": {
        "id": "Y6ucQ6ZrX3Q4"
      }
    },
    {
      "cell_type": "code",
      "source": [
        "import pandas as pd\n",
        "from collections import Counter\n",
        "\n",
        "gemmaG = pd.read_csv('3p_gold_gemma_EN.csv')\n",
        "gemmaL = pd.read_csv('3p_llm_gemma_EN.csv')\n",
        "llamaG = pd.read_csv('3p_gold_llama_EN.csv')\n",
        "llamaL = pd.read_csv('3p_llm_llama_EN.csv')\n",
        "\n",
        "\n",
        "gold = (gemmaG['Average'] + llamaG['Average']) / 2\n",
        "llm = (gemmaL['Average'] + llamaL['Average']) / 2\n",
        "\n",
        "counter = Counter()\n",
        "\n",
        "for gg_mean, ll_mean in zip(gold, llm):\n",
        "    if gg_mean > ll_mean:\n",
        "        counter['gold_higher'] += 1\n",
        "    elif gg_mean < ll_mean:\n",
        "        counter['llm_higher'] += 1\n",
        "    else:\n",
        "        counter['mean_ties'] += 1\n",
        "\n",
        "total_comparisons = len(gold)\n",
        "print(len(gold))\n",
        "\n",
        "gold_mean_higher_pct = (counter['gold_higher'] / total_comparisons) * 100\n",
        "llm_mean_higher_pct = (counter['llm_higher'] / total_comparisons) * 100\n",
        "mean_ties_pct = (counter['mean_ties'] / total_comparisons) * 100\n",
        "\n",
        "print(f\"Gold mean higher count: {counter['gold_higher']} ({gold_mean_higher_pct:.2f}%)\")\n",
        "print(f\"LLM mean higher count: {counter['llm_higher']} ({llm_mean_higher_pct:.2f}%)\")\n",
        "print(f\"Ties count: {counter['mean_ties']} ({mean_ties_pct:.2f}%)\")\n"
      ],
      "metadata": {
        "colab": {
          "base_uri": "https://localhost:8080/"
        },
        "id": "E1hKCrZXX2cf",
        "outputId": "d440b4e2-a24a-4d2c-d5a7-9f21bd92c47c"
      },
      "execution_count": null,
      "outputs": [
        {
          "output_type": "stream",
          "name": "stdout",
          "text": [
            "495\n",
            "Gold mean higher count: 83 (16.77%)\n",
            "LLM mean higher count: 382 (77.17%)\n",
            "Ties count: 30 (6.06%)\n"
          ]
        }
      ]
    },
    {
      "cell_type": "markdown",
      "source": [
        "FOR FRENCH GEMMA"
      ],
      "metadata": {
        "id": "Jw8YiSbeigUN"
      }
    },
    {
      "cell_type": "code",
      "source": [
        "import pandas as pd\n",
        "\n",
        "gemmaG = pd.read_csv('3p_gold_gemma_FR.csv')\n",
        "gemmaL = pd.read_csv('3p_llm_gemma_FR.csv')\n",
        "\n",
        "\n",
        "gold_higher = (gemmaG['Average'] > gemmaL['Average']).sum()\n",
        "llm_higher = (gemmaG['Average'] < gemmaL['Average']).sum()\n",
        "ties = (gemmaG['Average'] == gemmaL['Average']).sum()\n",
        "\n",
        "\n",
        "goldRate = (gold_higher / len(gemmaG)) * 100\n",
        "llmRate = (llm_higher / len(gemmaG)) * 100\n",
        "tiesRate = (ties / len(gemmaG)) * 100\n",
        "\n",
        "print(f\"Gold higher count: {gold_higher} ({goldRate:.2f}%)\")\n",
        "print(f\"LLM higher count: {llm_higher} ({llmRate:.2f}%)\")\n",
        "print(f\"Ties count: {ties} ({tiesRate:.2f}%)\")\n"
      ],
      "metadata": {
        "colab": {
          "base_uri": "https://localhost:8080/"
        },
        "id": "hqFeNkvejBSw",
        "outputId": "889a77a5-ad60-48ff-fd2c-2acf2ef36129"
      },
      "execution_count": null,
      "outputs": [
        {
          "output_type": "stream",
          "name": "stdout",
          "text": [
            "Gold higher count: 93 (18.79%)\n",
            "LLM higher count: 71 (14.34%)\n",
            "Ties count: 331 (66.87%)\n"
          ]
        }
      ]
    },
    {
      "cell_type": "markdown",
      "source": [
        "LLAMA"
      ],
      "metadata": {
        "id": "xSJRcPjEjEp4"
      }
    },
    {
      "cell_type": "code",
      "source": [
        "import pandas as pd\n",
        "\n",
        "llamaG = pd.read_csv('3p_gold_llama_FR.csv')\n",
        "llamaL = pd.read_csv('3p_llm_llama_FR.csv')\n",
        "\n",
        "gold_higher = (llamaG['Average'] > llamaL['Average']).sum()\n",
        "llm_higher = (llamaG['Average'] < llamaL['Average']).sum()\n",
        "ties = (llamaG['Average'] == llamaL['Average']).sum()\n",
        "\n",
        "gold_higher_pct = (gold_higher / len(llamaG)) * 100\n",
        "llm_higher_pct = (llm_higher / len(llamaG)) * 100\n",
        "ties_pct = (ties / len(llamaG)) * 100\n",
        "\n",
        "print(f\"Gold higher count: {gold_higher} ({gold_higher_pct:.2f}%)\")\n",
        "print(f\"LLM higher count: {llm_higher} ({llm_higher_pct:.2f}%)\")\n",
        "print(f\"Ties count: {ties} ({ties_pct:.2f}%)\")\n"
      ],
      "metadata": {
        "colab": {
          "base_uri": "https://localhost:8080/"
        },
        "id": "LAr3NoHEjF_m",
        "outputId": "c24224ad-aba5-49be-93a9-1ea23e2d60d3"
      },
      "execution_count": null,
      "outputs": [
        {
          "output_type": "stream",
          "name": "stdout",
          "text": [
            "Gold higher count: 71 (14.34%)\n",
            "LLM higher count: 286 (57.78%)\n",
            "Ties count: 138 (27.88%)\n"
          ]
        }
      ]
    },
    {
      "cell_type": "code",
      "source": [
        "import pandas as pd\n",
        "from collections import Counter\n",
        "\n",
        "gemmaG = pd.read_csv('3p_gold_gemma_FR.csv')\n",
        "gemmaL = pd.read_csv('3p_llm_gemma_FR.csv')\n",
        "llamaG = pd.read_csv('3p_gold_llama_FR.csv')\n",
        "llamaL = pd.read_csv('3p_llm_llama_FR.csv')\n",
        "\n",
        "\n",
        "gold = (gemmaG['Average'] + llamaG['Average']) / 2\n",
        "llm = (gemmaL['Average'] + llamaL['Average']) / 2\n",
        "\n",
        "counter = Counter()\n",
        "\n",
        "for gg_mean, ll_mean in zip(gold, llm):\n",
        "    if gg_mean > ll_mean:\n",
        "        counter['gold_higher'] += 1\n",
        "    elif gg_mean < ll_mean:\n",
        "        counter['llm_higher'] += 1\n",
        "    else:\n",
        "        counter['mean_ties'] += 1\n",
        "\n",
        "total_comparisons = len(gold)\n",
        "print(len(gold))\n",
        "\n",
        "gold_mean_higher_pct = (counter['gold_higher'] / total_comparisons) * 100\n",
        "llm_mean_higher_pct = (counter['llm_higher'] / total_comparisons) * 100\n",
        "mean_ties_pct = (counter['mean_ties'] / total_comparisons) * 100\n",
        "\n",
        "print(f\"Gold mean higher count: {counter['gold_higher']} ({gold_mean_higher_pct:.2f}%)\")\n",
        "print(f\"LLM mean higher count: {counter['llm_higher']} ({llm_mean_higher_pct:.2f}%)\")\n",
        "print(f\"Ties count: {counter['mean_ties']} ({mean_ties_pct:.2f}%)\")\n"
      ],
      "metadata": {
        "colab": {
          "base_uri": "https://localhost:8080/"
        },
        "id": "wvYuE9Bijm4e",
        "outputId": "3f4cab4d-0744-411c-cd10-e5428b53d022"
      },
      "execution_count": null,
      "outputs": [
        {
          "output_type": "stream",
          "name": "stdout",
          "text": [
            "495\n",
            "Gold mean higher count: 107 (21.62%)\n",
            "LLM mean higher count: 269 (54.34%)\n",
            "Ties count: 119 (24.04%)\n"
          ]
        }
      ]
    },
    {
      "cell_type": "code",
      "source": [
        "import matplotlib.pyplot as plt\n",
        "import numpy as np\n",
        "\n",
        "\n",
        "categories = ['English', 'French']\n",
        "gold_percentages = [16.77, 21.62]\n",
        "llm_percentages = [77.17, 54.34]\n",
        "ties_percentages = [6.06, 24.04]\n",
        "\n",
        "bar_width = 0.2\n",
        "\n",
        "r1 = np.arange(len(categories))\n",
        "r2 = [x + bar_width for x in r1]\n",
        "r3 = [x + bar_width for x in r2]\n",
        "\n",
        "plt.figure(figsize=(10, 6))\n",
        "\n",
        "plt.bar(r1, gold_percentages, color='b', width=bar_width,  label='Gold')\n",
        "\n",
        "plt.bar(r2, llm_percentages, color='r', width=bar_width,  label='LLM')\n",
        "\n",
        "plt.bar(r3, ties_percentages, color='orange', width=bar_width, label='Ties')\n",
        "\n",
        "plt.xlabel('Languages', fontweight='bold')\n",
        "plt.ylabel('Percentage', fontweight='bold')\n",
        "plt.xticks([r + bar_width for r in range(len(categories))], categories)\n",
        "plt.title('Comparison of Gold, LLM, and Ties Percentages for English and French 3-Point Likert Frameworks')\n",
        "\n",
        "\n",
        "plt.legend()\n",
        "\n",
        "plt.tight_layout()\n",
        "plt.show()\n"
      ],
      "metadata": {
        "colab": {
          "base_uri": "https://localhost:8080/",
          "height": 529
        },
        "id": "yaosQGmlGLxH",
        "outputId": "236e6ec3-d490-4be8-c287-2e79c741f645"
      },
      "execution_count": null,
      "outputs": [
        {
          "output_type": "display_data",
          "data": {
            "text/plain": [
              "<Figure size 1000x600 with 1 Axes>"
            ],
            "image/png": "[encoded data removed]"
          },
          "metadata": {}
        }
      ]
    },
    {
      "cell_type": "code",
      "source": [
        "import pandas as pd\n",
        "import numpy as np\n",
        "import matplotlib.pyplot as plt\n",
        "from scipy.stats import pearsonr\n",
        "from sklearn.metrics import cohen_kappa_score\n",
        "\n",
        "gemma_df = pd.read_csv('3p_gold_gemma_FR.csv')\n",
        "llama_df = pd.read_csv('3p_gold_llama_FR.csv')\n",
        "\n",
        "gemma_avg = gemma_df['Average']\n",
        "llama_avg = llama_df['Average']\n",
        "\n",
        "correlation, _ = pearsonr(gemma_avg, llama_avg)\n",
        "print(f'Pearson correlation: {correlation}')\n",
        "\n",
        "\n",
        "gemma_bin = gemma_avg.apply(lambda x: 1 if x > 2 else 0)\n",
        "llama_bin = llama_avg.apply(lambda x: 1 if x > 2 else 0)\n",
        "kappa = cohen_kappa_score(gemma_bin, llama_bin)\n",
        "print(f'Cohen\\'s Kappa: {kappa}')\n",
        "\n",
        "plt.figure(figsize=(10, 6))\n",
        "plt.scatter(gemma_avg, llama_avg, alpha=0.5)\n",
        "plt.xlabel('GEMMA Average Scores')\n",
        "plt.ylabel('LLAMA Average Scores')\n",
        "plt.title('Consistency between GEMMA and LLAMA Evaluations')\n",
        "plt.plot([0, 3], [0, 3], 'r--')\n",
        "plt.show()\n"
      ],
      "metadata": {
        "colab": {
          "base_uri": "https://localhost:8080/",
          "height": 599
        },
        "id": "l59_KSkGl75b",
        "outputId": "4d045697-b283-4ddd-b3b5-6735efabcc34"
      },
      "execution_count": null,
      "outputs": [
        {
          "output_type": "stream",
          "name": "stdout",
          "text": [
            "Pearson correlation: 0.3292238694790928\n",
            "Cohen's Kappa: -0.010410287813839458\n"
          ]
        },
        {
          "output_type": "display_data",
          "data": {
            "text/plain": [
              "<Figure size 1000x600 with 1 Axes>"
            ],
            "image/png": "[encoded data removed]"
          },
          "metadata": {}
        }
      ]
    },
    {
      "cell_type": "code",
      "source": [],
      "metadata": {
        "id": "m5_JJF8coHNE"
      },
      "execution_count": null,
      "outputs": []
    },
    {
      "cell_type": "code",
      "source": [],
      "metadata": {
        "id": "8GGPcvAGl8NT"
      },
      "execution_count": null,
      "outputs": []
    }
  ]
}